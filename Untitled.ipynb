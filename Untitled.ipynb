{
 "cells": [
  {
   "cell_type": "code",
   "execution_count": 2,
   "id": "728e9079-9fda-4462-8fe7-b1dda4555901",
   "metadata": {},
   "outputs": [
    {
     "data": {
      "text/plain": [
       "3"
      ]
     },
     "execution_count": 2,
     "metadata": {},
     "output_type": "execute_result"
    }
   ],
   "source": [
    "2 * 5\n",
    "1 + 2"
   ]
  },
  {
   "cell_type": "code",
   "execution_count": 6,
   "id": "47a1ccc3-9ba0-4f40-aa7e-50d55e694deb",
   "metadata": {},
   "outputs": [],
   "source": [
    "x = 180\n",
    "\n",
    "hour = x/60"
   ]
  },
  {
   "cell_type": "code",
   "execution_count": null,
   "id": "cd7818d0-7ef9-42d1-9bc6-0e5b71e26f18",
   "metadata": {},
   "outputs": [],
   "source": [
    "list1 = [1, 4, 7, 5, 8, 3]"
   ]
  },
  {
   "cell_type": "code",
   "execution_count": null,
   "id": "d76f69c6-4eb4-4fb6-8a74-d61a4264115f",
   "metadata": {},
   "outputs": [],
   "source": []
  }
 ],
 "metadata": {
  "kernelspec": {
   "display_name": "Python 3 (ipykernel)",
   "language": "python",
   "name": "python3"
  },
  "language_info": {
   "codemirror_mode": {
    "name": "ipython",
    "version": 3
   },
   "file_extension": ".py",
   "mimetype": "text/x-python",
   "name": "python",
   "nbconvert_exporter": "python",
   "pygments_lexer": "ipython3",
   "version": "3.12.8"
  }
 },
 "nbformat": 4,
 "nbformat_minor": 5
}
